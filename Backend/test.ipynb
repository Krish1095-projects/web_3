{
 "cells": [
  {
   "cell_type": "code",
   "execution_count": 1,
   "metadata": {},
   "outputs": [],
   "source": [
    "import torch\n",
    "import torch.nn as nn\n",
    "from transformers import BertModel, BertTokenizer\n",
    "import os\n",
    "import pandas as pd \n",
    "import numpy as np\n",
    "from proposed_work import *\n",
    "from sklearn.metrics import accuracy_score, precision_score, recall_score, f1_score, matthews_corrcoef\n",
    "from text_prep import *\n",
    "from sklearn.preprocessing import LabelEncoder"
   ]
  },
  {
   "cell_type": "code",
   "execution_count": 42,
   "metadata": {},
   "outputs": [],
   "source": [
    "## Functions ## \n",
    "def classify_tweet(tweet,device):\n",
    "    inputs = tokenizer(tweet, return_tensors=\"pt\", truncation=True, padding=True)\n",
    "    input_ids = inputs['input_ids'].to(device)\n",
    "    attentions = inputs['attention_mask'].to(device)\n",
    "    with torch.no_grad():\n",
    "        outputs,_ = quantized_model(input_ids, attentions)\n",
    "    probabilities = torch.sigmoid(outputs)\n",
    "    return probabilities.tolist()\n",
    "\n",
    "def classify_tweets_batch(tweets, device):\n",
    "    probabilities_list = []\n",
    "    for tweet in tweets:\n",
    "        probabilities = classify_tweet(tweet, device)\n",
    "        probabilities_list.append(probabilities[0])  # Assuming each output is a list\n",
    "    return probabilities_list\n",
    "\n",
    "def classify_tweets_from_df(df, device):\n",
    "    # Load the test dataset\n",
    "    text_col_names = ['tweet', 'Tweet', 'text', 'Text', 'clean_text', 'Clean_text','clean_tweet','Clean_tweet']\n",
    "    text_col = get_column_name(df, text_col_names)\n",
    "  \n",
    "    # Classify tweets\n",
    "    probabilities = classify_tweets_batch(df['clean_tweet'].tolist(), device=device)\n",
    "    if probabilities:\n",
    "        # Using argmax to find the index of the highest probability\n",
    "        df['predictions'] = [np.argmax(prob) for prob in probabilities]  # 0 for true information, 1 for misinformation\n",
    "        \n",
    "    num_classes = len(probabilities[0]) if probabilities else 0  # Determine number of classes\n",
    "    \n",
    "    # Create new columns for probabilities\n",
    "    for i in range(num_classes):  # Loop through the number of classes\n",
    "        df[f'probability_class_{i}'] = [prob[i] for prob in probabilities]\n",
    "    return df\n",
    "\n",
    "def compute_metrics(df, device):\n",
    "    # Classify tweets from the dataframe\n",
    "    df = classify_tweets_from_df(df, device)\n",
    "    # Identify the label column\n",
    "    label_col_names = ['label', 'target', 'Target', 'Label', 'class', 'Class']\n",
    "    label_col = get_column_name(df, label_col_names)\n",
    "    # Extract true labels and predictions\n",
    "    y_true = df[label_col].values\n",
    "    y_pred = df['predictions'].values\n",
    "    \n",
    "    # Encode the true labels to binary values (0 and 1)\n",
    "    encoder = LabelEncoder()\n",
    "    y_true_encoded = encoder.fit_transform(y_true)  # Encode to 0 and 1\n",
    "    y_pred_encoded = encoder.fit_transform(y_pred)\n",
    "\n",
    " \n",
    "\n",
    "    # Calculate metrics\n",
    "    accuracy = accuracy_score(y_true_encoded, y_pred_encoded)\n",
    "    precision = precision_score(y_true_encoded, y_pred_encoded)\n",
    "    recall = recall_score(y_true_encoded, y_pred_encoded)\n",
    "    f1 = f1_score(y_true_encoded, y_pred_encoded)\n",
    "    mcc = matthews_corrcoef(y_true_encoded, y_pred_encoded)\n",
    "    \n",
    "    # Calculate misclassification rate\n",
    "    misclassification_rate = 1 - accuracy\n",
    "    \n",
    "    return {\n",
    "        'accuracy': accuracy ,\n",
    "        'precision': precision ,\n",
    "        'recall': recall,\n",
    "        'f1_score': f1,\n",
    "        'mcc': mcc,\n",
    "        'misclassification_rate': misclassification_rate,\n",
    "    }\n"
   ]
  },
  {
   "cell_type": "code",
   "execution_count": 54,
   "metadata": {},
   "outputs": [
    {
     "data": {
      "text/html": [
       "<div>\n",
       "<style scoped>\n",
       "    .dataframe tbody tr th:only-of-type {\n",
       "        vertical-align: middle;\n",
       "    }\n",
       "\n",
       "    .dataframe tbody tr th {\n",
       "        vertical-align: top;\n",
       "    }\n",
       "\n",
       "    .dataframe thead th {\n",
       "        text-align: right;\n",
       "    }\n",
       "</style>\n",
       "<table border=\"1\" class=\"dataframe\">\n",
       "  <thead>\n",
       "    <tr style=\"text-align: right;\">\n",
       "      <th></th>\n",
       "      <th>text</th>\n",
       "      <th>label</th>\n",
       "      <th>platform_label</th>\n",
       "    </tr>\n",
       "  </thead>\n",
       "  <tbody>\n",
       "    <tr>\n",
       "      <th>1970</th>\n",
       "      <td>south africa asks serum institute take back  m...</td>\n",
       "      <td>False</td>\n",
       "      <td>news</td>\n",
       "    </tr>\n",
       "    <tr>\n",
       "      <th>1726</th>\n",
       "      <td>president donald trump announce scientist fina...</td>\n",
       "      <td>False</td>\n",
       "      <td>twitter</td>\n",
       "    </tr>\n",
       "    <tr>\n",
       "      <th>527</th>\n",
       "      <td>it claimed israelis discovered vaccine coronav...</td>\n",
       "      <td>False</td>\n",
       "      <td>twitter</td>\n",
       "    </tr>\n",
       "    <tr>\n",
       "      <th>994</th>\n",
       "      <td>posts social media claim people vaccinated flu...</td>\n",
       "      <td>False</td>\n",
       "      <td>twitter</td>\n",
       "    </tr>\n",
       "    <tr>\n",
       "      <th>1124</th>\n",
       "      <td>breaking trump announced us officially leaving...</td>\n",
       "      <td>False</td>\n",
       "      <td>twitter</td>\n",
       "    </tr>\n",
       "  </tbody>\n",
       "</table>\n",
       "</div>"
      ],
      "text/plain": [
       "                                                   text  label platform_label\n",
       "1970  south africa asks serum institute take back  m...  False           news\n",
       "1726  president donald trump announce scientist fina...  False        twitter\n",
       "527   it claimed israelis discovered vaccine coronav...  False        twitter\n",
       "994   posts social media claim people vaccinated flu...  False        twitter\n",
       "1124  breaking trump announced us officially leaving...  False        twitter"
      ]
     },
     "execution_count": 54,
     "metadata": {},
     "output_type": "execute_result"
    }
   ],
   "source": [
    "input_file_path = r'D:\\PHD\\Research Implementation\\Website\\web_3\\Backend\\uploads\\MisoVac.csv'  # Update with your input file path\n",
    "\n",
    "\n",
    "# Read the CSV file into a DataFrame\n",
    "df = pd.read_csv(input_file_path)\n",
    "df = df.sample(250,random_state=42)\n",
    "df.head()"
   ]
  },
  {
   "cell_type": "code",
   "execution_count": 55,
   "metadata": {},
   "outputs": [],
   "source": [
    "df['clean_tweet'] = process_tweets_in_chunks(df)"
   ]
  },
  {
   "cell_type": "code",
   "execution_count": 58,
   "metadata": {},
   "outputs": [],
   "source": [
    "df = classify_tweets_from_df(df,device)"
   ]
  },
  {
   "cell_type": "code",
   "execution_count": 69,
   "metadata": {},
   "outputs": [
    {
     "data": {
      "text/plain": [
       "'our body fights own not need foreign  dangerous ingredients injected work stop lying'"
      ]
     },
     "execution_count": 69,
     "metadata": {},
     "output_type": "execute_result"
    }
   ],
   "source": [
    "df.tail(10).text.iloc[0]"
   ]
  },
  {
   "cell_type": "code",
   "execution_count": 74,
   "metadata": {},
   "outputs": [
    {
     "data": {
      "text/plain": [
       "'well vaccination record private personal information not a huge database that anyone can access whenever they want. this would result in used people receiving a vaccine not wanting e.g.'"
      ]
     },
     "execution_count": 74,
     "metadata": {},
     "output_type": "execute_result"
    }
   ],
   "source": [
    "df[['text','label']].tail().iloc[0]['text']"
   ]
  },
  {
   "cell_type": "code",
   "execution_count": 60,
   "metadata": {},
   "outputs": [
    {
     "data": {
      "text/plain": [
       "predictions\n",
       "0    145\n",
       "1    105\n",
       "Name: count, dtype: int64"
      ]
     },
     "execution_count": 60,
     "metadata": {},
     "output_type": "execute_result"
    }
   ],
   "source": [
    "df.predictions.value_counts()"
   ]
  },
  {
   "cell_type": "code",
   "execution_count": 61,
   "metadata": {},
   "outputs": [],
   "source": [
    "results = compute_metrics(df, device)"
   ]
  },
  {
   "cell_type": "code",
   "execution_count": 62,
   "metadata": {},
   "outputs": [
    {
     "data": {
      "text/plain": [
       "{'accuracy': 0.916,\n",
       " 'precision': 0.9333333333333333,\n",
       " 'recall': 0.875,\n",
       " 'f1_score': 0.9032258064516129,\n",
       " 'mcc': 0.8305049452599802,\n",
       " 'misclassification_rate': 0.08399999999999996}"
      ]
     },
     "execution_count": 62,
     "metadata": {},
     "output_type": "execute_result"
    }
   ],
   "source": [
    "results"
   ]
  },
  {
   "cell_type": "code",
   "execution_count": null,
   "metadata": {},
   "outputs": [],
   "source": []
  }
 ],
 "metadata": {
  "kernelspec": {
   "display_name": "torchenv",
   "language": "python",
   "name": "python3"
  },
  "language_info": {
   "codemirror_mode": {
    "name": "ipython",
    "version": 3
   },
   "file_extension": ".py",
   "mimetype": "text/x-python",
   "name": "python",
   "nbconvert_exporter": "python",
   "pygments_lexer": "ipython3",
   "version": "3.9.19"
  }
 },
 "nbformat": 4,
 "nbformat_minor": 2
}
